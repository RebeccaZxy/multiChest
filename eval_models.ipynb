{
 "cells": [
  {
   "cell_type": "code",
   "execution_count": 1,
   "metadata": {},
   "outputs": [
    {
     "name": "stdout",
     "output_type": "stream",
     "text": [
      "CUDA is supported\n"
     ]
    }
   ],
   "source": [
    "from resnet_variant import *\n",
    "from baseline_cnn import *\n",
    "from resnet_variant import resnet_n\n",
    "from resnet import resnet50\n",
    "\n",
    "import torch.nn as nn\n",
    "import torch.optim as optim\n",
    "import time\n",
    "import pathlib\n",
    "import torch\n",
    "from evaluation import Evaluation\n",
    "\n",
    "%load_ext autoreload\n",
    "%autoreload 2\n",
    "# Setup: initialize the hyperparameters/variables\n",
    "num_epochs = 1           # Number of full passes through the dataset\n",
    "batch_size = 16          # Number of samples in each minibatch\n",
    "learning_rate = 0.00001  \n",
    "seed = np.random.seed(1) # Seed the random number generator for reproducibility\n",
    "p_val = 0.1              # Percent of the overall dataset to reserve for validation\n",
    "p_test = 0.2             # Percent of the overall dataset to reserve for testing\n",
    "\n",
    "class channelCopy(object):    \n",
    "    def __call__(self, img):\n",
    "        return torch.cat([img, img, img], 0)\n",
    "    \n",
    "def augmentImg(object):    \n",
    "    ang_rand = np.random.choice(10,1)\n",
    "    if ang_rand==0:\n",
    "            \n",
    "\n",
    "#TODO: Convert to Tensor - you can later add other transformations, such as Scaling here\n",
    "transform = transforms.Compose([transforms.Resize(512),transforms.ToTensor(),channelCopy()])\n",
    "\n",
    "\n",
    "# Check if your system supports CUDA\n",
    "use_cuda = torch.cuda.is_available()\n",
    "\n",
    "# Setup GPU optimization if CUDA is supported\n",
    "if use_cuda:\n",
    "    computing_device = torch.device(\"cuda\")\n",
    "    extras = {\"num_workers\": 1, \"pin_memory\": True}\n",
    "    print(\"CUDA is supported\")\n",
    "else: # Otherwise, train on the CPU\n",
    "    computing_device = torch.device(\"cpu\")\n",
    "    extras = False\n",
    "    print(\"CUDA NOT supported\")\n",
    "\n",
    "# Setup the training, validation, and testing dataloaders\n",
    "train_loader, val_loader, test_loader = create_split_loaders(batch_size, seed, transform=transform, \n",
    "                                                             p_val=p_val, p_test=p_test,\n",
    "                                                             shuffle=True, show_sample=False, \n",
    "                                                             extras=extras)"
   ]
  },
  {
   "cell_type": "code",
   "execution_count": 34,
   "metadata": {},
   "outputs": [
    {
     "data": {
      "text/plain": [
       "array([9])"
      ]
     },
     "execution_count": 34,
     "metadata": {},
     "output_type": "execute_result"
    }
   ],
   "source": [
    "np.random.choice(10,1)"
   ]
  },
  {
   "cell_type": "code",
   "execution_count": 6,
   "metadata": {},
   "outputs": [],
   "source": [
    "#Select models for evaluation\n",
    "mode = 'resnet_variant'\n",
    "if mode == 'resnet_variant':\n",
    "    PATH = '/datasets/home/home-02/60/960/kshi/PA3/models/resnet_variant/weighted/20190216-131303/epoch_0-batch_1800-loss_5.402564784162678e-05-20190216-142005.pt'\n",
    "    model_test = resnet_n(pretrained=False, num_classes=14)\n",
    "    model_test = model_test.to(computing_device)\n",
    "    model_test.load_state_dict(torch.load(PATH))\n",
    "elif mode == 'resnet':\n",
    "    PATH = '/datasets/home/home-02/60/960/kshi/PA3/models/resnet50/20190214-113501/epoch_0-batch_1900-loss_0.17764276266098022-20190214-154931.pt'\n",
    "    model_test = resnet50(pretrained=False, num_classes=14)\n",
    "    model_test = model_test.to(computing_device)\n",
    "    model_test.load_state_dict(torch.load(PATH))"
   ]
  },
  {
   "cell_type": "code",
   "execution_count": 7,
   "metadata": {},
   "outputs": [],
   "source": [
    "labels_all = []\n",
    "predictions_all = []\n",
    "model_test.eval()\n",
    "with torch.no_grad():\n",
    "    for data in test_loader:\n",
    "        images, labels = data\n",
    "        images, labels = images.to(computing_device), labels.to(computing_device)\n",
    "        labels_all.append(labels)\n",
    "        output = model_test(images)\n",
    "        predictions = output > 0.5\n",
    "        predictions_all.append(predictions)\n",
    "\n",
    "labels = torch.cat(labels_all,0)\n",
    "predctions = torch.cat(predictions_all,0)"
   ]
  },
  {
   "cell_type": "markdown",
   "metadata": {},
   "source": [
    "## resnet"
   ]
  },
  {
   "cell_type": "code",
   "execution_count": 5,
   "metadata": {},
   "outputs": [
    {
     "name": "stdout",
     "output_type": "stream",
     "text": [
      "TP [0.0, 0.0, 0.0, 0.0, 0.0, 0.0, 0.0, 0.0, 0.0, 0.0, 0.0, 0.0, 0.0, 0.0]\n",
      "FP [0.0, 0.0, 0.0, 0.0, 0.0, 0.0, 0.0, 0.0, 0.0, 0.0, 0.0, 0.0, 0.0, 0.0]\n",
      "TN [18080.0, 19717.0, 17878.0, 16513.0, 19116.0, 19004.0, 19903.0, 19246.0, 19314.0, 19758.0, 19756.0, 19894.0, 19571.0, 20138.0]\n",
      "FN [2101.0, 464.0, 2303.0, 3668.0, 1065.0, 1177.0, 278.0, 935.0, 867.0, 423.0, 425.0, 287.0, 610.0, 43.0]\n",
      "accuracy tensor([0.8959, 0.9770, 0.8859, 0.8182, 0.9472, 0.9417, 0.9862, 0.9537, 0.9570,\n",
      "        0.9790, 0.9789, 0.9858, 0.9698, 0.9979], device='cuda:0',\n",
      "       dtype=torch.float64)\n",
      "precision tensor([nan, nan, nan, nan, nan, nan, nan, nan, nan, nan, nan, nan, nan, nan],\n",
      "       device='cuda:0', dtype=torch.float64)\n",
      "recall tensor([0., 0., 0., 0., 0., 0., 0., 0., 0., 0., 0., 0., 0., 0.],\n",
      "       device='cuda:0', dtype=torch.float64)\n"
     ]
    }
   ],
   "source": [
    "eval = Evaluation(predctions.float(), labels)\n",
    "eval.evaluate()"
   ]
  },
  {
   "cell_type": "markdown",
   "metadata": {},
   "source": [
    "## resnet_variant_weighted"
   ]
  },
  {
   "cell_type": "code",
   "execution_count": 8,
   "metadata": {},
   "outputs": [
    {
     "name": "stdout",
     "output_type": "stream",
     "text": [
      "TP [0.0, 0.0, 0.0, 0.0, 0.0, 0.0, 0.0, 0.0, 0.0, 0.0, 0.0, 0.0, 0.0, 0.0]\n",
      "FP [0.0, 0.0, 0.0, 0.0, 0.0, 0.0, 0.0, 0.0, 0.0, 0.0, 0.0, 0.0, 0.0, 0.0]\n",
      "TN [18080.0, 19717.0, 17878.0, 16513.0, 19116.0, 19004.0, 19903.0, 19246.0, 19314.0, 19758.0, 19756.0, 19894.0, 19571.0, 20138.0]\n",
      "FN [2101.0, 464.0, 2303.0, 3668.0, 1065.0, 1177.0, 278.0, 935.0, 867.0, 423.0, 425.0, 287.0, 610.0, 43.0]\n",
      "accuracy tensor([0.8959, 0.9770, 0.8859, 0.8182, 0.9472, 0.9417, 0.9862, 0.9537, 0.9570,\n",
      "        0.9790, 0.9789, 0.9858, 0.9698, 0.9979], device='cuda:0',\n",
      "       dtype=torch.float64)\n",
      "precision tensor([nan, nan, nan, nan, nan, nan, nan, nan, nan, nan, nan, nan, nan, nan],\n",
      "       device='cuda:0', dtype=torch.float64)\n",
      "recall tensor([0., 0., 0., 0., 0., 0., 0., 0., 0., 0., 0., 0., 0., 0.],\n",
      "       device='cuda:0', dtype=torch.float64)\n"
     ]
    }
   ],
   "source": [
    "eval = Evaluation(predctions.float(), labels)\n",
    "eval.evaluate()"
   ]
  }
 ],
 "metadata": {
  "kernelspec": {
   "display_name": "Python 3",
   "language": "python",
   "name": "python3"
  },
  "language_info": {
   "codemirror_mode": {
    "name": "ipython",
    "version": 3
   },
   "file_extension": ".py",
   "mimetype": "text/x-python",
   "name": "python",
   "nbconvert_exporter": "python",
   "pygments_lexer": "ipython3",
   "version": "3.6.8"
  }
 },
 "nbformat": 4,
 "nbformat_minor": 2
}
