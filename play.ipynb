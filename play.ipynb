{
 "cells": [
  {
   "cell_type": "code",
   "execution_count": 2,
   "metadata": {},
   "outputs": [
    {
     "name": "stdout",
     "output_type": "stream",
     "text": [
      "The autoreload extension is already loaded. To reload it, use:\n",
      "  %reload_ext autoreload\n",
      "CUDA NOT supported\n",
      "Model on CUDA? False\n"
     ]
    }
   ],
   "source": [
    "from resnet_variant import *\n",
    "from baseline_cnn import *\n",
    "from resnet_variant import resnet_n\n",
    "import torch.nn as nn\n",
    "import torch.optim as optim\n",
    "import time\n",
    "import pathlib\n",
    "import torch\n",
    "import torch.nn.functional as F\n",
    "from evaluation import Evaluation\n",
    "from xray_imbalanced_dataloader import create_balanced_split_loaders\n",
    "import random\n",
    "%load_ext autoreload\n",
    "%autoreload 2\n",
    "# Setup: initialize the hyperparameters/variables\n",
    "num_epochs = 1           # Number of full passes through the dataset\n",
    "batch_size = 16          # Number of samples in each minibatch\n",
    "learning_rate = 0.001  \n",
    "seed = np.random.seed(1) # Seed the random number generator for reproducibility\n",
    "p_val = 0.1              # Percent of the overall dataset to reserve for validation\n",
    "p_test = 0.2             # Percent of the overall dataset to reserve for testing\n",
    "\n",
    "class channelCopy(object):    \n",
    "    def __call__(self, img):\n",
    "        return torch.cat([img, img, img], 0)\n",
    "    \n",
    "def augmentImg(img): \n",
    "    if 0.9 < random.random():\n",
    "        return img\n",
    "\n",
    "    t=transforms.RandomRotation(10)\n",
    "    img = t(img)\n",
    "    return img\n",
    "        \n",
    "#TODO: Convert to Tensor - you can later add other transformations, such as Scaling here\n",
    "transform = transforms.Compose([transforms.Resize(512),augmentImg,transforms.ToTensor(),channelCopy()])\n",
    "\n",
    "\n",
    "# Check if your system supports CUDA\n",
    "use_cuda = torch.cuda.is_available()\n",
    "\n",
    "# Setup GPU optimization if CUDA is supported\n",
    "if use_cuda:\n",
    "    computing_device = torch.device(\"cuda\")\n",
    "    extras = {\"num_workers\": 1, \"pin_memory\": True}\n",
    "    print(\"CUDA is supported\")\n",
    "else: # Otherwise, train on the CPU\n",
    "    computing_device = torch.device(\"cpu\")\n",
    "    extras = False\n",
    "    print(\"CUDA NOT supported\")\n",
    "\n",
    "# Setup the training, validation, and testing dataloaders\n",
    "train_loader, val_loader, test_loader = create_split_loaders(batch_size, seed, transform=transform, \n",
    "                                                             p_val=p_val, p_test=p_test,\n",
    "                                                             shuffle=True, show_sample=False, \n",
    "                                                             extras=extras)\n",
    "# train_loader, val_loader, test_loader = create_balanced_split_loaders(batch_size, seed, transform=transform,\n",
    "#                                                                          p_val=p_val, p_test=p_test,\n",
    "#                                                                          shuffle=True, show_sample=False,\n",
    "#                                                                          extras=extras, z_score=True)\n",
    "# Instantiate a BasicCNN to run on the GPU or CPU based on CUDA support\n",
    "model = resnet_n(pretrained=False, num_classes=14)\n",
    "model = model.to(computing_device)\n",
    "print(\"Model on CUDA?\", next(model.parameters()).is_cuda)\n",
    "\n",
    "#TODO: Define the loss criterion and instantiate the gradient descent optimizer\n",
    "#criterion = nn.MultiLabelSoftMarginLoss() #TODO - loss criteria are defined in the torch.nn package\n",
    "criterion = nn.MultiLabelSoftMarginLoss()\n",
    "#TODO: Instantiate the gradient descent optimizer - use Adam optimizer with default parameters\n",
    "optimizer = optim.Adam(model.parameters()) #TODO - optimizers are defined in the torch.optim package"
   ]
  },
  {
   "cell_type": "code",
   "execution_count": null,
   "metadata": {},
   "outputs": [],
   "source": [
    "transform = transforms.Compose([transforms.Resize(512), transforms.ToTensor()])"
   ]
  },
  {
   "cell_type": "code",
   "execution_count": null,
   "metadata": {},
   "outputs": [],
   "source": [
    "train_loader, val_loader, test_loader = create_split_loaders(batch_size, seed, transform=transform, \n",
    "                                                             p_val=p_val, p_test=p_test,\n",
    "                                                             shuffle=True, show_sample=False, \n",
    "                                                             extras=extras)"
   ]
  },
  {
   "cell_type": "code",
   "execution_count": null,
   "metadata": {},
   "outputs": [],
   "source": [
    "for minibatch_count, (images, labels) in enumerate(train_loader, 0):\n",
    "    "
   ]
  },
  {
   "cell_type": "code",
   "execution_count": null,
   "metadata": {},
   "outputs": [],
   "source": []
  },
  {
   "cell_type": "code",
   "execution_count": null,
   "metadata": {},
   "outputs": [],
   "source": [
    "inbalance_weight = torch.Tensor([1/8236,1/1989,1/9561,1/14240,1/4175,1/4537,1/962,1/3825,1/3317,1/1637,1/1819,1/1237,1/2431,1/162])"
   ]
  },
  {
   "cell_type": "code",
   "execution_count": null,
   "metadata": {},
   "outputs": [],
   "source": [
    "inbalance_weight"
   ]
  },
  {
   "cell_type": "code",
   "execution_count": null,
   "metadata": {},
   "outputs": [],
   "source": [
    "inbalance_weight/torch.norm(inbalance_weight)"
   ]
  },
  {
   "cell_type": "code",
   "execution_count": null,
   "metadata": {},
   "outputs": [],
   "source": [
    "F.normalize(inbalance_weight)"
   ]
  },
  {
   "cell_type": "code",
   "execution_count": 25,
   "metadata": {},
   "outputs": [],
   "source": [
    "x = torch.rand((4,6))"
   ]
  },
  {
   "cell_type": "code",
   "execution_count": 35,
   "metadata": {},
   "outputs": [],
   "source": [
    "y = torch.bernoulli(x)"
   ]
  },
  {
   "cell_type": "code",
   "execution_count": 36,
   "metadata": {},
   "outputs": [
    {
     "data": {
      "text/plain": [
       "tensor([[0.6626, 0.7595, 0.5292, 0.2148, 0.1666, 0.1843],\n",
       "        [0.6687, 0.8035, 0.1697, 0.8229, 0.9938, 0.0686],\n",
       "        [0.9343, 0.1650, 0.7778, 0.0114, 0.2583, 0.1929],\n",
       "        [0.6283, 0.9699, 0.2832, 0.6697, 0.8875, 0.0431]])"
      ]
     },
     "execution_count": 36,
     "metadata": {},
     "output_type": "execute_result"
    }
   ],
   "source": [
    "x"
   ]
  },
  {
   "cell_type": "code",
   "execution_count": 37,
   "metadata": {},
   "outputs": [
    {
     "data": {
      "text/plain": [
       "tensor([[1., 0., 1., 0., 0., 0.],\n",
       "        [1., 1., 0., 1., 1., 0.],\n",
       "        [1., 0., 1., 0., 0., 0.],\n",
       "        [0., 1., 1., 1., 1., 0.]])"
      ]
     },
     "execution_count": 37,
     "metadata": {},
     "output_type": "execute_result"
    }
   ],
   "source": [
    "y"
   ]
  },
  {
   "cell_type": "code",
   "execution_count": null,
   "metadata": {},
   "outputs": [],
   "source": [
    "torch.sum(x,dim=0)"
   ]
  },
  {
   "cell_type": "code",
   "execution_count": null,
   "metadata": {},
   "outputs": [],
   "source": [
    "x.size()[0]"
   ]
  },
  {
   "cell_type": "code",
   "execution_count": 46,
   "metadata": {},
   "outputs": [
    {
     "data": {
      "text/plain": [
       "tensor([[1.5194e+29, 4.5893e-42, 1.5194e+29, 4.5893e-42, 0.0000e+00],\n",
       "        [0.0000e+00, 0.0000e+00, 0.0000e+00, 0.0000e+00, 0.0000e+00],\n",
       "        [0.0000e+00, 0.0000e+00, 0.0000e+00, 0.0000e+00, 0.0000e+00],\n",
       "        [0.0000e+00, 0.0000e+00, 0.0000e+00, 0.0000e+00, 0.0000e+00],\n",
       "        [0.0000e+00, 0.0000e+00, 0.0000e+00, 0.0000e+00, 0.0000e+00]])"
      ]
     },
     "execution_count": 46,
     "metadata": {},
     "output_type": "execute_result"
    }
   ],
   "source": [
    "torch.Tensor(5,5)/10"
   ]
  },
  {
   "cell_type": "code",
   "execution_count": 47,
   "metadata": {},
   "outputs": [],
   "source": [
    "class W_CEL(nn.Module):\n",
    "    def __init__(self, weight=None, Verbose=False):\n",
    "        super(W_CEL, self).__init__()\n",
    "        self.weight = weight \n",
    "        self.Verbose = Verbose\n",
    "        \n",
    "    def forward(self, input, target):\n",
    "        class_sum = torch.sum(target, dim=0)\n",
    "        \n",
    "        positive_ratio = class_sum / target.size()[0]   # P / (P+N)\n",
    "        print(target.size()[0])\n",
    "        negative_ratio = torch.ones(target.size()) - positive_ratio # N / (P+N)\n",
    "        print(positive_ratio)\n",
    "        loss = -(target * F.logsigmoid(input) * negative_ratio + (1 - target) * F.logsigmoid(-input) * positive_ratio)\n",
    "        \n",
    "        loss = loss.sum(dim=1) / input.size(1)\n",
    "#         return loss\n",
    "        ret = loss.mean()\n",
    "        \n",
    "        return ret"
   ]
  },
  {
   "cell_type": "code",
   "execution_count": 48,
   "metadata": {},
   "outputs": [],
   "source": [
    "w = W_CEL()"
   ]
  },
  {
   "cell_type": "code",
   "execution_count": 49,
   "metadata": {},
   "outputs": [
    {
     "name": "stdout",
     "output_type": "stream",
     "text": [
      "4\n",
      "tensor([0.7500, 0.5000, 0.7500, 0.5000, 0.5000, 0.0000])\n"
     ]
    },
    {
     "data": {
      "text/plain": [
       "tensor(0.2334)"
      ]
     },
     "execution_count": 49,
     "metadata": {},
     "output_type": "execute_result"
    }
   ],
   "source": [
    "w.forward(x,y)"
   ]
  },
  {
   "cell_type": "code",
   "execution_count": null,
   "metadata": {},
   "outputs": [],
   "source": [
    "{'Atelectasis': 8236, 'Effusion': 9561, 'Infiltration': 14240, 'Mass': 4175, 'Nodule': 4537, 'No Finding': 43579, 'Consolidation': 3317, 'Pneumothorax': 3825, 'Pleural_Thickening': 2431, 'Emphysema': 1819, 'Cardiomegaly': 1989, 'Pneumonia': 962, 'Fibrosis': 1237, 'Edema': 1637, 'Hernia': 162}"
   ]
  },
  {
   "cell_type": "code",
   "execution_count": null,
   "metadata": {},
   "outputs": [],
   "source": [
    "{0: \"Atelectasis\", 1: \"Cardiomegaly\", 2: \"Effusion\",\n",
    "                        3: \"Infiltration\", 4: \"Mass\", 5: \"Nodule\", 6: \"Pneumonia\",\n",
    "                        7: \"Pneumothorax\", 8: \"Consolidation\", 9: \"Edema\",\n",
    "                        10: \"Emphysema\", 11: \"Fibrosis\",\n",
    "                        12: \"Pleural_Thickening\", 13: \"Hernia\"}"
   ]
  },
  {
   "cell_type": "code",
   "execution_count": null,
   "metadata": {},
   "outputs": [],
   "source": [
    "x"
   ]
  },
  {
   "cell_type": "code",
   "execution_count": null,
   "metadata": {},
   "outputs": [],
   "source": [
    "x = torch.rand(2,3)"
   ]
  },
  {
   "cell_type": "code",
   "execution_count": null,
   "metadata": {},
   "outputs": [],
   "source": []
  },
  {
   "cell_type": "code",
   "execution_count": null,
   "metadata": {},
   "outputs": [],
   "source": [
    "Path = '/datasets/ChestXray-NIHCC/images'\n",
    "paths = []\n",
    "images = []"
   ]
  },
  {
   "cell_type": "code",
   "execution_count": null,
   "metadata": {},
   "outputs": [],
   "source": [
    "import os\n",
    "from PIL import Image"
   ]
  },
  {
   "cell_type": "code",
   "execution_count": null,
   "metadata": {},
   "outputs": [],
   "source": [
    "for path in os.listdir(Path):\n",
    "    if path == 'scale_images.py':\n",
    "        continue\n",
    "    paths.append(os.path.join(Path,path))"
   ]
  },
  {
   "cell_type": "code",
   "execution_count": null,
   "metadata": {},
   "outputs": [],
   "source": [
    "mean = np.zeros((1024,1024))"
   ]
  },
  {
   "cell_type": "code",
   "execution_count": null,
   "metadata": {},
   "outputs": [],
   "source": [
    "for path in paths:\n",
    "    if path  == '/datasets/ChestXray-NIHCC/images/scale_images.py':\n",
    "        print('haha')"
   ]
  },
  {
   "cell_type": "code",
   "execution_count": null,
   "metadata": {},
   "outputs": [],
   "source": [
    "for i, path in enumerate(paths):\n",
    "    \n",
    "    meta = Image.open(path).convert(mode='L')\n",
    "    image = np.array(meta) # a is readonly\n",
    "    if image.shape == (1024,1024,4):\n",
    "        print('4')\n",
    "        continue\n",
    "    mean += image\n",
    "    \n",
    "    if i % 5000 == 0:\n",
    "        print(i)\n",
    "        np.savetxt('tmp.txt',mean, fmt='%f') \n",
    "#     print(image.shape)\n",
    "#     images.append(image)"
   ]
  },
  {
   "cell_type": "code",
   "execution_count": null,
   "metadata": {},
   "outputs": [],
   "source": [
    "i"
   ]
  },
  {
   "cell_type": "code",
   "execution_count": null,
   "metadata": {},
   "outputs": [],
   "source": [
    "mean.shape"
   ]
  },
  {
   "cell_type": "code",
   "execution_count": null,
   "metadata": {},
   "outputs": [],
   "source": [
    "np.savetxt('mean.txt',mean, fmt='%f')"
   ]
  },
  {
   "cell_type": "code",
   "execution_count": null,
   "metadata": {},
   "outputs": [],
   "source": [
    "len(images)"
   ]
  },
  {
   "cell_type": "code",
   "execution_count": null,
   "metadata": {},
   "outputs": [],
   "source": [
    "std_meta = np.zeros((1024,1024))"
   ]
  },
  {
   "cell_type": "code",
   "execution_count": null,
   "metadata": {},
   "outputs": [],
   "source": [
    "for i, path in enumerate(paths):\n",
    "    \n",
    "    meta = Image.open(path).convert(mode='L')\n",
    "    image = np.array(meta) # a is readonly\n",
    "\n",
    "    std_meta += (image-mean)**2\n",
    "    \n",
    "    if i % 5000 == 0:\n",
    "        print(i)\n",
    "        np.savetxt('std_meta.txt',std_meta, fmt='%f') "
   ]
  },
  {
   "cell_type": "code",
   "execution_count": null,
   "metadata": {},
   "outputs": [],
   "source": [
    "std = std_meta / 112119"
   ]
  },
  {
   "cell_type": "code",
   "execution_count": null,
   "metadata": {},
   "outputs": [],
   "source": [
    "np.savetxt('std.txt',std, fmt='%f') "
   ]
  }
 ],
 "metadata": {
  "kernelspec": {
   "display_name": "Python 3",
   "language": "python",
   "name": "python3"
  },
  "language_info": {
   "codemirror_mode": {
    "name": "ipython",
    "version": 3
   },
   "file_extension": ".py",
   "mimetype": "text/x-python",
   "name": "python",
   "nbconvert_exporter": "python",
   "pygments_lexer": "ipython3",
   "version": "3.6.8"
  }
 },
 "nbformat": 4,
 "nbformat_minor": 2
}
